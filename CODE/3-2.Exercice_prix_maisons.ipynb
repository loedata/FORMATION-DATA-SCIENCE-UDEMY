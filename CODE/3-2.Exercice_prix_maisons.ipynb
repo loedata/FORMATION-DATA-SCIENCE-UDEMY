{
 "cells": [
  {
   "cell_type": "code",
   "execution_count": 12,
   "metadata": {
    "scrolled": true
   },
   "outputs": [
    {
     "name": "stdout",
     "output_type": "stream",
     "text": [
      "[125000, 135000, 145000, 155000, 165000, 175000, 185000, 195000, 205000, 215000, 225000, 235000, 245000, 255000, 265000, 275000, 285000, 295000, 305000, 315000, 325000, 335000, 345000, 355000, 365000, 375000, 385000, 395000, 405000, 415000, 425000, 435000, 445000, 455000, 465000, 475000, 485000, 495000, 505000, 515000, 525000, 535000, 545000, 555000, 565000, 575000, 585000, 595000, 605000, 615000, 625000, 635000, 645000, 655000, 665000, 675000, 685000, 695000]\n"
     ]
    },
    {
     "data": {
      "text/plain": [
       "58"
      ]
     },
     "execution_count": 12,
     "metadata": {},
     "output_type": "execute_result"
    }
   ],
   "source": [
    "# 0.1 création de la liste\n",
    "prix_58_maisons=list(range(125000,700000,10000))\n",
    "print(prix_58_maisons)\n",
    "len(prix_58_maisons)"
   ]
  },
  {
   "cell_type": "code",
   "execution_count": 26,
   "metadata": {},
   "outputs": [
    {
     "name": "stdout",
     "output_type": "stream",
     "text": [
      "58 maisons  avec prix entre 125000 et 750000 euros\n"
     ]
    }
   ],
   "source": [
    "# 0.2.Combien de maisons contenant des prix entre 125000 et 700000 euros\n",
    "compteur=0\n",
    "compteur_resultat_vrai=0\n",
    "nbre_maisons=len(prix_58_maisons)\n",
    "for compteur in range(nbre_maisons) :\n",
    "    if (prix_58_maisons[compteur]>=125000) and (prix_58_maisons[compteur]<=750000):\n",
    "        compteur_resultat_vrai+=1\n",
    "    compteur+=1\n",
    "print(compteur_resultat_vrai, 'maisons  avec prix entre 125000 et 750000 euros')    "
   ]
  },
  {
   "cell_type": "code",
   "execution_count": 35,
   "metadata": {},
   "outputs": [
    {
     "name": "stdout",
     "output_type": "stream",
     "text": [
      "40\n"
     ]
    }
   ],
   "source": [
    "# 1.1 Combien de maisons contenant des prix >= 300000 euros\n",
    "nombre_maison=0\n",
    "for prix in prix_58_maisons:\n",
    "    if prix >= 300000:\n",
    "        nombre_maison+=1\n",
    "print(nombre_maison)        "
   ]
  },
  {
   "cell_type": "code",
   "execution_count": 28,
   "metadata": {},
   "outputs": [
    {
     "name": "stdout",
     "output_type": "stream",
     "text": [
      "40 maisons avec prix supérieur à 300000 euros\n"
     ]
    }
   ],
   "source": [
    "# 1.2. combien de maisons prix supérieur ou égal à 300000 euros\n",
    "compteur=0\n",
    "compteur_resultat_vrai=0\n",
    "nbre_maisons=len(prix_58_maisons)\n",
    "for compteur in range(nbre_maisons) :\n",
    "    if (prix_58_maisons[compteur]>=300000):\n",
    "        compteur_resultat_vrai+=1\n",
    "    compteur+=1\n",
    "print(compteur_resultat_vrai, 'maisons avec prix supérieur à 300000 euros')    "
   ]
  },
  {
   "cell_type": "code",
   "execution_count": 29,
   "metadata": {},
   "outputs": [
    {
     "name": "stdout",
     "output_type": "stream",
     "text": [
      "15 maisons avec prix entre 250000 et 400000 euros\n"
     ]
    }
   ],
   "source": [
    "# 2. combien de maisons prix entre 250000 et 400000 euros\n",
    "compteur=0\n",
    "compteur_resultat_vrai=0\n",
    "nbre_maisons=len(prix_58_maisons)\n",
    "for compteur in range(nbre_maisons) :\n",
    "    if (prix_58_maisons[compteur]>=250000) and (prix_58_maisons[compteur]<=400000):\n",
    "        compteur_resultat_vrai+=1\n",
    "    compteur+=1\n",
    "print(compteur_resultat_vrai, 'maisons avec prix entre 250000 et 400000 euros')    "
   ]
  },
  {
   "cell_type": "code",
   "execution_count": 31,
   "metadata": {},
   "outputs": [
    {
     "name": "stdout",
     "output_type": "stream",
     "text": [
      "10 maisons avec prix supérieur à 600000 euros\n"
     ]
    }
   ],
   "source": [
    "# 3. combien de maisons prix pas supérieur à 600000 euros\n",
    "compteur=0\n",
    "compteur_resultat_vrai=0\n",
    "nbre_maisons=len(prix_58_maisons)\n",
    "for compteur in range(nbre_maisons) :\n",
    "    if (prix_58_maisons[compteur]>=600000):\n",
    "        compteur_resultat_vrai+=1\n",
    "    compteur+=1\n",
    "print(compteur_resultat_vrai, 'maisons avec prix supérieur à 600000 euros')    "
   ]
  },
  {
   "cell_type": "code",
   "execution_count": 33,
   "metadata": {},
   "outputs": [
    {
     "name": "stdout",
     "output_type": "stream",
     "text": [
      "5 maisons avec prix inférieur à 150000 ou supérieur à 650000 euros\n"
     ]
    }
   ],
   "source": [
    "# 4.combien de maisons prix inférieur à 15000 ou supérieur à 6500000 euros\n",
    "compteur=0\n",
    "compteur_resultat_vrai=0\n",
    "nbre_maisons=len(prix_58_maisons)\n",
    "for compteur in range(nbre_maisons) :\n",
    "    if (prix_58_maisons[compteur]<15000) or (prix_58_maisons[compteur]>650000):\n",
    "        compteur_resultat_vrai+=1\n",
    "    compteur+=1\n",
    "print(compteur_resultat_vrai, 'maisons avec prix inférieur à 150000 ou supérieur à 650000 euros')    "
   ]
  },
  {
   "cell_type": "code",
   "execution_count": null,
   "metadata": {},
   "outputs": [],
   "source": []
  }
 ],
 "metadata": {
  "kernelspec": {
   "display_name": "Python 3",
   "language": "python",
   "name": "python3"
  },
  "language_info": {
   "codemirror_mode": {
    "name": "ipython",
    "version": 3
   },
   "file_extension": ".py",
   "mimetype": "text/x-python",
   "name": "python",
   "nbconvert_exporter": "python",
   "pygments_lexer": "ipython3",
   "version": "3.8.3"
  }
 },
 "nbformat": 4,
 "nbformat_minor": 4
}
