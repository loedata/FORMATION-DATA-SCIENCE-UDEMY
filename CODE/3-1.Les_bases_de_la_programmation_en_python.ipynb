{
 "cells": [
  {
   "cell_type": "code",
   "execution_count": 1,
   "metadata": {},
   "outputs": [
    {
     "data": {
      "text/plain": [
       "True"
      ]
     },
     "execution_count": 1,
     "metadata": {},
     "output_type": "execute_result"
    }
   ],
   "source": [
    "# opérateur comparaison : ==\n",
    "1 == 1"
   ]
  },
  {
   "cell_type": "code",
   "execution_count": 2,
   "metadata": {},
   "outputs": [
    {
     "data": {
      "text/plain": [
       "False"
      ]
     },
     "execution_count": 2,
     "metadata": {},
     "output_type": "execute_result"
    }
   ],
   "source": [
    "1==2"
   ]
  },
  {
   "cell_type": "code",
   "execution_count": 3,
   "metadata": {},
   "outputs": [
    {
     "data": {
      "text/plain": [
       "False"
      ]
     },
     "execution_count": 3,
     "metadata": {},
     "output_type": "execute_result"
    }
   ],
   "source": [
    "# opérateur négation : !=\n",
    "1 !=1"
   ]
  },
  {
   "cell_type": "code",
   "execution_count": 4,
   "metadata": {},
   "outputs": [
    {
     "data": {
      "text/plain": [
       "True"
      ]
     },
     "execution_count": 4,
     "metadata": {},
     "output_type": "execute_result"
    }
   ],
   "source": [
    "1!=2"
   ]
  },
  {
   "cell_type": "code",
   "execution_count": 5,
   "metadata": {},
   "outputs": [
    {
     "data": {
      "text/plain": [
       "True"
      ]
     },
     "execution_count": 5,
     "metadata": {},
     "output_type": "execute_result"
    }
   ],
   "source": [
    "2>1"
   ]
  },
  {
   "cell_type": "code",
   "execution_count": 6,
   "metadata": {},
   "outputs": [
    {
     "data": {
      "text/plain": [
       "False"
      ]
     },
     "execution_count": 6,
     "metadata": {},
     "output_type": "execute_result"
    }
   ],
   "source": [
    "1>2"
   ]
  },
  {
   "cell_type": "code",
   "execution_count": 7,
   "metadata": {},
   "outputs": [
    {
     "data": {
      "text/plain": [
       "True"
      ]
     },
     "execution_count": 7,
     "metadata": {},
     "output_type": "execute_result"
    }
   ],
   "source": [
    "2<=5"
   ]
  },
  {
   "cell_type": "code",
   "execution_count": 8,
   "metadata": {},
   "outputs": [
    {
     "data": {
      "text/plain": [
       "True"
      ]
     },
     "execution_count": 8,
     "metadata": {},
     "output_type": "execute_result"
    }
   ],
   "source": [
    "# opérateur logique : AND\n",
    "(3==3) and (4==4)"
   ]
  },
  {
   "cell_type": "code",
   "execution_count": 9,
   "metadata": {},
   "outputs": [
    {
     "data": {
      "text/plain": [
       "True"
      ]
     },
     "execution_count": 9,
     "metadata": {},
     "output_type": "execute_result"
    }
   ],
   "source": [
    "# opérateur logique : OR\n",
    "(3==3) or (4==5)"
   ]
  },
  {
   "cell_type": "code",
   "execution_count": 10,
   "metadata": {},
   "outputs": [
    {
     "data": {
      "text/plain": [
       "False"
      ]
     },
     "execution_count": 10,
     "metadata": {},
     "output_type": "execute_result"
    }
   ],
   "source": [
    "# opérateur logique : NOT\n",
    "not(3==3)"
   ]
  },
  {
   "cell_type": "code",
   "execution_count": 11,
   "metadata": {},
   "outputs": [],
   "source": [
    "#  instruction de condition if\n",
    "# if condition:\n",
    "#     action1\n",
    "# else:\n",
    "#     action2"
   ]
  },
  {
   "cell_type": "code",
   "execution_count": 12,
   "metadata": {},
   "outputs": [],
   "source": [
    "ma_var1=2\n",
    "ma_var2=6\n",
    "ma_var3='Hello'"
   ]
  },
  {
   "cell_type": "code",
   "execution_count": 13,
   "metadata": {},
   "outputs": [
    {
     "name": "stdout",
     "output_type": "stream",
     "text": [
      "La comparaison est vraie\n"
     ]
    }
   ],
   "source": [
    "if (ma_var1 == 2) and (ma_var3 == 'Hello'):\n",
    "    print('La comparaison est vraie')\n",
    "else:\n",
    "    print('La comparaison est fausse')"
   ]
  },
  {
   "cell_type": "code",
   "execution_count": 15,
   "metadata": {},
   "outputs": [
    {
     "name": "stdout",
     "output_type": "stream",
     "text": [
      "comparaison vraie\n"
     ]
    }
   ],
   "source": [
    "if (ma_var1 >= ma_var2) or (ma_var3 == 'Hello'):\n",
    "    print('comparaison vraie')\n",
    "else:\n",
    "    print('comparaison fausse')"
   ]
  },
  {
   "cell_type": "code",
   "execution_count": 16,
   "metadata": {},
   "outputs": [],
   "source": [
    "# bloucle for\n",
    "# for ma_valeur in liste:\n",
    "#  blocs d'actions"
   ]
  },
  {
   "cell_type": "code",
   "execution_count": 1,
   "metadata": {},
   "outputs": [
    {
     "name": "stdout",
     "output_type": "stream",
     "text": [
      "2\n",
      "------\n",
      "4\n",
      "------\n",
      "6\n",
      "------\n",
      "8\n",
      "------\n",
      "10\n",
      "------\n",
      "12\n",
      "------\n",
      "14\n",
      "------\n",
      "16\n",
      "------\n",
      "18\n",
      "------\n",
      "20\n",
      "------\n"
     ]
    }
   ],
   "source": [
    "ma_liste=[1,2,3,4,5,6,7,8,9,10]\n",
    "for ma_valeur in ma_liste:\n",
    "    print(ma_valeur*2)\n",
    "    print('------')"
   ]
  },
  {
   "cell_type": "code",
   "execution_count": 2,
   "metadata": {},
   "outputs": [
    {
     "name": "stdout",
     "output_type": "stream",
     "text": [
      "La multiplication de 2 * 1 = 2\n",
      "La multiplication de 2 * 2 = 4\n",
      "La multiplication de 2 * 3 = 6\n",
      "La multiplication de 2 * 4 = 8\n",
      "La multiplication de 2 * 5 = 10\n",
      "La multiplication de 2 * 6 = 12\n",
      "La multiplication de 2 * 7 = 14\n",
      "La multiplication de 2 * 8 = 16\n",
      "La multiplication de 2 * 9 = 18\n",
      "La multiplication de 2 * 10 = 20\n"
     ]
    }
   ],
   "source": [
    "for ma_valeur in ma_liste:\n",
    "    ma_new_val=ma_valeur*2\n",
    "    print(\"La multiplication de 2 * %d = %d\" % (ma_valeur,ma_new_val))"
   ]
  },
  {
   "cell_type": "code",
   "execution_count": null,
   "metadata": {},
   "outputs": [],
   "source": [
    "# boucle while\n",
    "# while condition:\n",
    "# bloc d'actions"
   ]
  },
  {
   "cell_type": "code",
   "execution_count": 3,
   "metadata": {},
   "outputs": [
    {
     "name": "stdout",
     "output_type": "stream",
     "text": [
      "Mon compteur = 0\n",
      "Ma valeur = 1\n",
      "Mon compteur = 1\n",
      "Ma valeur = 2\n",
      "Mon compteur = 2\n",
      "Ma valeur = 3\n",
      "Mon compteur = 3\n",
      "Ma valeur = 4\n",
      "Mon compteur = 4\n",
      "Ma valeur = 5\n",
      "Mon compteur = 5\n",
      "Ma valeur = 6\n",
      "Mon compteur = 6\n",
      "Ma valeur = 7\n",
      "Mon compteur = 7\n",
      "Ma valeur = 8\n",
      "Mon compteur = 8\n",
      "Ma valeur = 9\n",
      "Mon compteur = 9\n",
      "Ma valeur = 10\n"
     ]
    }
   ],
   "source": [
    "compteur=0\n",
    "while(compteur < 10):\n",
    "    print('Mon compteur = %d' % (compteur))\n",
    "    print('Ma valeur = %d' % (ma_liste[compteur]))\n",
    "    compteur=compteur+1"
   ]
  },
  {
   "cell_type": "code",
   "execution_count": 4,
   "metadata": {},
   "outputs": [
    {
     "name": "stdout",
     "output_type": "stream",
     "text": [
      "Mon compteur = 1\n",
      "Ma valeur = 2\n",
      "Mon compteur = 3\n",
      "Ma valeur = 4\n",
      "Mon compteur = 5\n",
      "Ma valeur = 6\n",
      "Mon compteur = 7\n",
      "Ma valeur = 8\n",
      "Mon compteur = 9\n",
      "Ma valeur = 10\n"
     ]
    }
   ],
   "source": [
    "compteur=0\n",
    "while (compteur < 10):\n",
    "    if (ma_liste[compteur] % 2 == 0):\n",
    "        print('Mon compteur = %d' % (compteur))\n",
    "        print('Ma valeur = %d' % (ma_liste[compteur]))\n",
    "    compteur=compteur+1"
   ]
  },
  {
   "cell_type": "code",
   "execution_count": 5,
   "metadata": {},
   "outputs": [],
   "source": [
    "# fonction en python\n",
    "# def ma_fonction(argument1, argument 2)\n",
    "# code\n",
    "# code\n",
    "# resultat = code\n",
    "# return resultat"
   ]
  },
  {
   "cell_type": "code",
   "execution_count": 10,
   "metadata": {},
   "outputs": [
    {
     "data": {
      "text/plain": [
       "40"
      ]
     },
     "execution_count": 10,
     "metadata": {},
     "output_type": "execute_result"
    }
   ],
   "source": [
    "def nombre_de_maisons_avec_prix_superieur_300000(une_liste):\n",
    "    nombre_maison=0\n",
    "    for prix in une_liste:\n",
    "        if prix >= 300000:\n",
    "            nombre_maison+=1\n",
    "    return nombre_maison\n",
    "prix_58_maisons=list(range(125000,700000,10000))\n",
    "nombre_de_maisons_avec_prix_superieur_300000(prix_58_maisons)\n",
    "    "
   ]
  },
  {
   "cell_type": "code",
   "execution_count": 12,
   "metadata": {},
   "outputs": [
    {
     "name": "stdout",
     "output_type": "stream",
     "text": [
      "40\n",
      "58\n"
     ]
    }
   ],
   "source": [
    "# fonction renvoyant plusieurs résultat ==> un tuple\n",
    "def nombre_de_maisons_avec_prix_superieur_300000_2(une_liste):\n",
    "    nombre_maison=0\n",
    "    nombre_total=0\n",
    "    for prix in une_liste:\n",
    "        if prix >= 300000:\n",
    "            nombre_maison+=1\n",
    "        nombre_total+=1\n",
    "    return (nombre_maison, nombre_total) #dans un tuple\n",
    "prix_58_maisons=list(range(125000,700000,10000))\n",
    "# assigner 2 valeurs aux 2 valeurs du tuples\n",
    "nombre_maison, nombre_total=nombre_de_maisons_avec_prix_superieur_300000_2(prix_58_maisons)\n",
    "print(nombre_maison)\n",
    "print(nombre_total)"
   ]
  },
  {
   "cell_type": "code",
   "execution_count": null,
   "metadata": {},
   "outputs": [],
   "source": []
  }
 ],
 "metadata": {
  "kernelspec": {
   "display_name": "Python 3",
   "language": "python",
   "name": "python3"
  },
  "language_info": {
   "codemirror_mode": {
    "name": "ipython",
    "version": 3
   },
   "file_extension": ".py",
   "mimetype": "text/x-python",
   "name": "python",
   "nbconvert_exporter": "python",
   "pygments_lexer": "ipython3",
   "version": "3.8.3"
  }
 },
 "nbformat": 4,
 "nbformat_minor": 4
}
