{
 "cells": [
  {
   "cell_type": "code",
   "execution_count": 1,
   "metadata": {},
   "outputs": [],
   "source": [
    "# 1. Création d'un dictionnaire notes_eleves\n",
    "\n",
    "notes_eleves={\n",
    "    'Marie':15,\n",
    "    'Samuel':17,\n",
    "    'Gaston':12,\n",
    "    'Fred':10,\n",
    "    'Mae':5,\n",
    "    'Julie':15,\n",
    "    'Zoe':7,\n",
    "    'Claire':20,\n",
    "    'Chloe':8,\n",
    "    'julien':14,\n",
    "    'Gael':9,\n",
    "    'Samia':15,\n",
    "    'Omar':11,\n",
    "    'Gabriel':16,\n",
    "    'Manon':2\n",
    "}"
   ]
  },
  {
   "cell_type": "code",
   "execution_count": 2,
   "metadata": {},
   "outputs": [
    {
     "data": {
      "text/plain": [
       "{'Marie': 15,\n",
       " 'Samuel': 17,\n",
       " 'Gaston': 12,\n",
       " 'Fred': 10,\n",
       " 'Mae': 5,\n",
       " 'Julie': 15,\n",
       " 'Zoe': 7,\n",
       " 'Claire': 20,\n",
       " 'Chloe': 8,\n",
       " 'julien': 14,\n",
       " 'Gael': 9,\n",
       " 'Samia': 15,\n",
       " 'Omar': 11,\n",
       " 'Gabriel': 16,\n",
       " 'Manon': 2}"
      ]
     },
     "execution_count": 2,
     "metadata": {},
     "output_type": "execute_result"
    }
   ],
   "source": [
    "notes_eleves"
   ]
  },
  {
   "cell_type": "code",
   "execution_count": 3,
   "metadata": {},
   "outputs": [
    {
     "data": {
      "text/plain": [
       "dict_values([15, 17, 12, 10, 5, 15, 7, 20, 8, 14, 9, 15, 11, 16, 2])"
      ]
     },
     "execution_count": 3,
     "metadata": {},
     "output_type": "execute_result"
    }
   ],
   "source": [
    "notes_eleves.values()"
   ]
  },
  {
   "cell_type": "code",
   "execution_count": 34,
   "metadata": {},
   "outputs": [
    {
     "name": "stdout",
     "output_type": "stream",
     "text": [
      "[15, 17, 12, 10, 5, 15, 7, 20, 8, 14, 9, 15, 11, 16, 2]\n",
      "[15, 17, 12, 10, 5, 15, 7, 20, 8, 14, 9, 15, 11, 16, 2]\n"
     ]
    }
   ],
   "source": [
    "# transformer l'objet dict_values en list\n",
    "liste_notes_eleves=list(notes_eleves.values())\n",
    "print(list(notes_eleves.values()))\n",
    "print(liste_notes_eleves)"
   ]
  },
  {
   "cell_type": "code",
   "execution_count": 32,
   "metadata": {},
   "outputs": [
    {
     "name": "stdout",
     "output_type": "stream",
     "text": [
      "Moyenne générale : 11.733333\n"
     ]
    }
   ],
   "source": [
    "# 2. Quelle est la moyenne de la classe?\n",
    "import numpy\n",
    "moyenne=numpy.mean(list(notes_eleves.values()))\n",
    "print('Moyenne générale : %f' % moyenne)"
   ]
  },
  {
   "cell_type": "code",
   "execution_count": 35,
   "metadata": {},
   "outputs": [
    {
     "data": {
      "text/plain": [
       "15"
      ]
     },
     "execution_count": 35,
     "metadata": {},
     "output_type": "execute_result"
    }
   ],
   "source": [
    "# 3. Afficher le nombre total d'élèves dans la classe\n",
    "len(liste_notes_eleves)\n",
    "\n",
    "# OU\n",
    "nombre_eleves=len(notes_eleves) # directement sur le dictionnaire\n",
    " \n",
    "# OU\n",
    "nbre_eleves=len(notes_eleves.keys()) # directement sur les clés du dictionnaire"
   ]
  },
  {
   "cell_type": "code",
   "execution_count": 38,
   "metadata": {},
   "outputs": [
    {
     "name": "stdout",
     "output_type": "stream",
     "text": [
      "Nombre délèves avec une note supérieure à la moyenne : 8\n"
     ]
    }
   ],
   "source": [
    "# 4. Combien d'élèves ont une note strictement supérieure à la moyenne\n",
    "nbr_eleve_sup_moyenne=0\n",
    "for note_eleve in notes_eleves.values():\n",
    "    if note_eleve >= moyenne:\n",
    "        nbr_eleve_sup_moyenne+=1\n",
    "print('Nombre d''élèves avec une note supérieure à la moyenne : %d' % nbr_eleve_sup_moyenne)"
   ]
  },
  {
   "cell_type": "code",
   "execution_count": 43,
   "metadata": {},
   "outputs": [
    {
     "name": "stdout",
     "output_type": "stream",
     "text": [
      "Meilleur note : 20\n",
      "Le prénom du/de la meilleur(e) élève est : Claire\n"
     ]
    }
   ],
   "source": [
    "# 5. Quel est le prénom du meilleur élève de la classe?\n",
    "# parcourir le dictionnaire par clé et valeur : items\n",
    "# voir au préalable quelle est la meilleure note dans le dicionnaire : une fonction\n",
    "# condition if pour savoir note == cette note maxi et on récupère la clé=prénom\n",
    "\n",
    "# 1. quelle est la meilleure note du dictionnaire?\n",
    "meilleur_note=max(liste_notes_eleves)\n",
    "# OU \n",
    "# meilleur_note=max(notes_eleves.values()) donc directement sur les valeurs du dictionnaire\n",
    "print('Meilleur note : %d' % meilleur_note)\n",
    "\n",
    "# 2. parcourir le dico avec clé valeur\n",
    "for prenom, note in notes_eleves.items():\n",
    "    if note == meilleur_note:\n",
    "        print('Le prénom du/de la meilleur(e) élève est : %s' % prenom)"
   ]
  },
  {
   "cell_type": "code",
   "execution_count": 44,
   "metadata": {},
   "outputs": [
    {
     "name": "stdout",
     "output_type": "stream",
     "text": [
      "Le nombre délèves avec un prénom de moins de 4 lettres est : 2\n"
     ]
    }
   ],
   "source": [
    "# 6. Combien d'élèves ont un prénom avec strictement moins de 4 lettres?\n",
    "# parcourir les clés du dictionnaire\n",
    "nbre_prenom_moins_4_lettres=0\n",
    "for prenom in notes_eleves.keys():\n",
    "    if len(prenom) < 4:\n",
    "        nbre_prenom_moins_4_lettres+=1\n",
    "print('Le nombre d''élèves avec un prénom de moins de 4 lettres est : %d' % nbre_prenom_moins_4_lettres)        "
   ]
  },
  {
   "cell_type": "code",
   "execution_count": 56,
   "metadata": {},
   "outputs": [
    {
     "name": "stdout",
     "output_type": "stream",
     "text": [
      "Prénom avec une note paire :\n",
      " Gaston (12)\n",
      " Fred (10)\n",
      " Claire (20)\n",
      " Chloe (8)\n",
      " julien (14)\n",
      " Gabriel (16)\n",
      " Manon (2)\n"
     ]
    }
   ],
   "source": [
    "# 7. afficher le pénom des élèves qui ont une note paire -->\n",
    "# modulo 2, parcourir dico pour accéder prénom, note et si #note mutliple de 2 ==>afficher\n",
    "print('Prénom avec une note paire :')\n",
    "for prenom, note in notes_eleves.items():\n",
    "    if note%2 == 0:\n",
    "        print(' %s (%d)' % (prenom, note))"
   ]
  },
  {
   "cell_type": "code",
   "execution_count": null,
   "metadata": {},
   "outputs": [],
   "source": []
  }
 ],
 "metadata": {
  "kernelspec": {
   "display_name": "Python 3",
   "language": "python",
   "name": "python3"
  },
  "language_info": {
   "codemirror_mode": {
    "name": "ipython",
    "version": 3
   },
   "file_extension": ".py",
   "mimetype": "text/x-python",
   "name": "python",
   "nbconvert_exporter": "python",
   "pygments_lexer": "ipython3",
   "version": "3.8.3"
  }
 },
 "nbformat": 4,
 "nbformat_minor": 4
}
