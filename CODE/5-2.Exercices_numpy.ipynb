{
 "cells": [
  {
   "cell_type": "code",
   "execution_count": 34,
   "metadata": {},
   "outputs": [],
   "source": [
    "# import de la librairie numpy\n",
    "import numpy as np"
   ]
  },
  {
   "cell_type": "code",
   "execution_count": 35,
   "metadata": {
    "scrolled": true
   },
   "outputs": [],
   "source": [
    "# placer le fichier de donnnées houses.csv \n",
    "# dans le répertoire de travail de jupyter\n",
    "\n",
    "# lire le fichier\n",
    "# nom du fichier, délimiteur utilisé entre les valeurs \n",
    "# et préciser le type de données\n",
    "houses = np.genfromtxt('Houses.csv', delimiter=',', dtype=int)"
   ]
  },
  {
   "cell_type": "code",
   "execution_count": 36,
   "metadata": {},
   "outputs": [
    {
     "data": {
      "text/plain": [
       "array([[212000,   4148,  25264],\n",
       "       [230000,   2501,  11891],\n",
       "       [339000,   4374,  25351],\n",
       "       [289000,   2398,  22215],\n",
       "       [160000,   2536,   9234],\n",
       "       [ 85000,   2368,  13329],\n",
       "       [ 85000,   1264,   8407],\n",
       "       [145000,   1572,  12588],\n",
       "       [164000,   2375,  16204],\n",
       "       [123500,   1161,   9626],\n",
       "       [180000,   1542,   8755],\n",
       "       [159500,   1464,  14636],\n",
       "       [156000,   2240,  21780],\n",
       "       [146500,   1269,  11250],\n",
       "       [101500,    924,   7361],\n",
       "       [109800,    768,  10497],\n",
       "       [182000,   1320,  15768],\n",
       "       [110000,   1845,  12153],\n",
       "       [125000,   1274,  13634],\n",
       "       [ 80000,   1905,  10890]])"
      ]
     },
     "execution_count": 36,
     "metadata": {},
     "output_type": "execute_result"
    }
   ],
   "source": [
    "# prix de vente des maisons américaines en dollars, taille en pieds carré\n",
    "# colonne 1 : prix de vente de la maison en dollars\n",
    "# colonne 2 : taille de la maison en pieds carré\n",
    "# colonne 3 : tailler du terrain en pieds carré\n",
    "houses"
   ]
  },
  {
   "cell_type": "code",
   "execution_count": 37,
   "metadata": {},
   "outputs": [
    {
     "data": {
      "text/plain": [
       "array([[182320,   4148,  25264],\n",
       "       [197800,   2501,  11891],\n",
       "       [291540,   4374,  25351],\n",
       "       [248540,   2398,  22215],\n",
       "       [137600,   2536,   9234],\n",
       "       [ 73100,   2368,  13329],\n",
       "       [ 73100,   1264,   8407],\n",
       "       [124700,   1572,  12588],\n",
       "       [141040,   2375,  16204],\n",
       "       [106210,   1161,   9626],\n",
       "       [154800,   1542,   8755],\n",
       "       [137170,   1464,  14636],\n",
       "       [134160,   2240,  21780],\n",
       "       [125990,   1269,  11250],\n",
       "       [ 87290,    924,   7361],\n",
       "       [ 94428,    768,  10497],\n",
       "       [156520,   1320,  15768],\n",
       "       [ 94600,   1845,  12153],\n",
       "       [107500,   1274,  13634],\n",
       "       [ 68800,   1905,  10890]])"
      ]
     },
     "execution_count": 37,
     "metadata": {},
     "output_type": "execute_result"
    }
   ],
   "source": [
    "# 1. convertir le prix des maisons (col1*0.86) de dollars en euros\n",
    "# première colonne = prix de vente de la maison en dollors\n",
    "houses[:,0]=houses[:,0] * 0.86\n",
    "houses"
   ]
  },
  {
   "cell_type": "code",
   "execution_count": 38,
   "metadata": {},
   "outputs": [
    {
     "data": {
      "text/plain": [
       "array([[182320,    373,  25264],\n",
       "       [197800,    225,  11891],\n",
       "       [291540,    393,  25351],\n",
       "       [248540,    215,  22215],\n",
       "       [137600,    228,   9234],\n",
       "       [ 73100,    213,  13329],\n",
       "       [ 73100,    113,   8407],\n",
       "       [124700,    141,  12588],\n",
       "       [141040,    213,  16204],\n",
       "       [106210,    104,   9626],\n",
       "       [154800,    138,   8755],\n",
       "       [137170,    131,  14636],\n",
       "       [134160,    201,  21780],\n",
       "       [125990,    114,  11250],\n",
       "       [ 87290,     83,   7361],\n",
       "       [ 94428,     69,  10497],\n",
       "       [156520,    118,  15768],\n",
       "       [ 94600,    166,  12153],\n",
       "       [107500,    114,  13634],\n",
       "       [ 68800,    171,  10890]])"
      ]
     },
     "execution_count": 38,
     "metadata": {},
     "output_type": "execute_result"
    }
   ],
   "source": [
    "# 2. convertir les pieds carrés en m2 pour col 2 et 3 : *0.09\n",
    "# 2.1 Colonne 1 = taille de la maison de pieds carrés à mètre carré\n",
    "houses[:,1]=houses[:,1] * 0.09\n",
    "houses"
   ]
  },
  {
   "cell_type": "code",
   "execution_count": 40,
   "metadata": {},
   "outputs": [
    {
     "data": {
      "text/plain": [
       "array([[182320,    373,   2273],\n",
       "       [197800,    225,   1070],\n",
       "       [291540,    393,   2281],\n",
       "       [248540,    215,   1999],\n",
       "       [137600,    228,    831],\n",
       "       [ 73100,    213,   1199],\n",
       "       [ 73100,    113,    756],\n",
       "       [124700,    141,   1132],\n",
       "       [141040,    213,   1458],\n",
       "       [106210,    104,    866],\n",
       "       [154800,    138,    787],\n",
       "       [137170,    131,   1317],\n",
       "       [134160,    201,   1960],\n",
       "       [125990,    114,   1012],\n",
       "       [ 87290,     83,    662],\n",
       "       [ 94428,     69,    944],\n",
       "       [156520,    118,   1419],\n",
       "       [ 94600,    166,   1093],\n",
       "       [107500,    114,   1227],\n",
       "       [ 68800,    171,    980]])"
      ]
     },
     "execution_count": 40,
     "metadata": {},
     "output_type": "execute_result"
    }
   ],
   "source": [
    "# 2.2 Colonne 1 = taille du terrain de pieds carrés à mètre carré\n",
    "houses[:,2]=houses[:,2] * 0.09\n",
    "houses"
   ]
  },
  {
   "cell_type": "code",
   "execution_count": 49,
   "metadata": {},
   "outputs": [
    {
     "name": "stdout",
     "output_type": "stream",
     "text": [
      "[2273 1070 2281 1999 1199 1132 1458 1317 1960 1012 1419 1093 1227]\n",
      "Nmbre de maisons de plus de 1000 m2 : 13\n"
     ]
    }
   ],
   "source": [
    "# 3. combien de maisons ont un terrain de plus de 1000m2? \n",
    "# colonne 3 (index 2)\n",
    "# appel le array avec des conditions et récupère la taille de l'array \n",
    "# respectant cette condition\n",
    "print(houses[:,2][(houses[:,2] > 1000)])\n",
    "nbre_maison_plus_1000_m2=len(houses[:,2][(houses[:,2] > 1000)])\n",
    "\n",
    "print('Nmbre de maisons de plus de 1000 m2 : %d' % nbre_maison_plus_1000_m2)"
   ]
  },
  {
   "cell_type": "code",
   "execution_count": 58,
   "metadata": {},
   "outputs": [
    {
     "name": "stdout",
     "output_type": "stream",
     "text": [
      "[182320 197800 291540 248540 137600  73100  73100 124700 141040 106210\n",
      " 154800 137170 134160 125990  87290  94428 156520  94600 107500  68800]\n",
      "Moyenne du prix de vente : 136860.400000\n",
      "Somme totale de la vente des 20 maisons : 2737208\n"
     ]
    }
   ],
   "source": [
    "# 4. Calculer la somme totale obtenue après la vente des 20 maisons\n",
    "# faire la somme de la colonne contenant les prix ==> col 1\n",
    "col1=houses[:,0]\n",
    "print(col1)\n",
    "moyenne_prix_vente=np.mean(col1, axis=0)\n",
    "print('Moyenne du prix de vente : %f' % moyenne_prix_vente)\n",
    "\n",
    "# somme totale\n",
    "somme=np.sum(houses[:,0])\n",
    "print('Somme totale de la vente des 20 maisons : %d' % somme)\n"
   ]
  },
  {
   "cell_type": "code",
   "execution_count": 63,
   "metadata": {},
   "outputs": [
    {
     "name": "stdout",
     "output_type": "stream",
     "text": [
      "Prix de vente le plus cher : 291540\n",
      "[[291540    393   2281]]\n",
      "Taille de la maison la plus cher : 393\n"
     ]
    }
   ],
   "source": [
    "# 5. Quelle est la taille de la maison vendue la plus chère?\n",
    "# utiliser la fonction max quel est le prix la plus chère et\n",
    "# récupérer la taille\n",
    "\n",
    "# 5.1 prix de vente le plus cher : prix = col1\n",
    "prix_le_plus_cher=houses[:,0].max()\n",
    "print('Prix de vente le plus cher : %d' % prix_le_plus_cher)\n",
    "\n",
    "# 5.2 récupérer la taille du prix le plus cher 291540 : 93 m2\n",
    "# récupère la ligne pour laquelle le prix est 291540\n",
    "ligne_prix_plus_cher=houses[(houses[:,0] == prix_le_plus_cher)]\n",
    "print(ligne_prix_plus_cher)\n",
    "\n",
    "# 5.3 récupérer la valeur de la col2 (index 1)\n",
    "taille_de_maison_plus_cher=houses[(houses[:,0] == prix_le_plus_cher)][:,1]\n",
    "print('Taille de la maison la plus cher : %d' % taille_de_maison_plus_cher)\n"
   ]
  },
  {
   "cell_type": "code",
   "execution_count": 83,
   "metadata": {
    "scrolled": false
   },
   "outputs": [
    {
     "name": "stdout",
     "output_type": "stream",
     "text": [
      "Taille : (20, 3)\n",
      "----------------------------------\n",
      "Index de spit en 3 : 6.666666666666667\n",
      "----------------------------------\n",
      "Tableau houses splitté en 3 : solution 1\n",
      "                                    \n",
      "[[182320    373   2273]\n",
      " [197800    225   1070]\n",
      " [291540    393   2281]\n",
      " [248540    215   1999]\n",
      " [137600    228    831]\n",
      " [ 73100    213   1199]]\n",
      "                                    \n",
      "[[ 73100    113    756]\n",
      " [124700    141   1132]\n",
      " [141040    213   1458]\n",
      " [106210    104    866]\n",
      " [154800    138    787]\n",
      " [137170    131   1317]\n",
      " [134160    201   1960]]\n",
      "                                    \n",
      "[[125990    114   1012]\n",
      " [ 87290     83    662]\n",
      " [ 94428     69    944]\n",
      " [156520    118   1419]\n",
      " [ 94600    166   1093]\n",
      " [107500    114   1227]\n",
      " [ 68800    171    980]]\n",
      "----------------------------------\n",
      "Tableau houses splitté en 3 : solution 2\n",
      "                                    \n",
      "[[182320]\n",
      " [197800]\n",
      " [291540]\n",
      " [248540]\n",
      " [137600]\n",
      " [ 73100]\n",
      " [ 73100]\n",
      " [124700]\n",
      " [141040]\n",
      " [106210]\n",
      " [154800]\n",
      " [137170]\n",
      " [134160]\n",
      " [125990]\n",
      " [ 87290]\n",
      " [ 94428]\n",
      " [156520]\n",
      " [ 94600]\n",
      " [107500]\n",
      " [ 68800]]\n",
      "                                    \n",
      "[[373]\n",
      " [225]\n",
      " [393]\n",
      " [215]\n",
      " [228]\n",
      " [213]\n",
      " [113]\n",
      " [141]\n",
      " [213]\n",
      " [104]\n",
      " [138]\n",
      " [131]\n",
      " [201]\n",
      " [114]\n",
      " [ 83]\n",
      " [ 69]\n",
      " [118]\n",
      " [166]\n",
      " [114]\n",
      " [171]]\n",
      "                                    \n",
      "[[2273]\n",
      " [1070]\n",
      " [2281]\n",
      " [1999]\n",
      " [ 831]\n",
      " [1199]\n",
      " [ 756]\n",
      " [1132]\n",
      " [1458]\n",
      " [ 866]\n",
      " [ 787]\n",
      " [1317]\n",
      " [1960]\n",
      " [1012]\n",
      " [ 662]\n",
      " [ 944]\n",
      " [1419]\n",
      " [1093]\n",
      " [1227]\n",
      " [ 980]]\n",
      "----------------------------------\n",
      "Tableau reconstitué vertical\n",
      "[[182320    373   2273]\n",
      " [197800    225   1070]\n",
      " [291540    393   2281]\n",
      " [248540    215   1999]\n",
      " [137600    228    831]\n",
      " [ 73100    213   1199]\n",
      " [ 73100    113    756]\n",
      " [124700    141   1132]\n",
      " [141040    213   1458]\n",
      " [106210    104    866]\n",
      " [154800    138    787]\n",
      " [137170    131   1317]\n",
      " [134160    201   1960]\n",
      " [125990    114   1012]\n",
      " [ 87290     83    662]\n",
      " [ 94428     69    944]\n",
      " [156520    118   1419]\n",
      " [ 94600    166   1093]\n",
      " [107500    114   1227]\n",
      " [ 68800    171    980]]\n",
      "----------------------------------\n",
      "Tableau reconstitué horizontal\n",
      "[[182320    373   2273]\n",
      " [197800    225   1070]\n",
      " [291540    393   2281]\n",
      " [248540    215   1999]\n",
      " [137600    228    831]\n",
      " [ 73100    213   1199]\n",
      " [ 73100    113    756]\n",
      " [124700    141   1132]\n",
      " [141040    213   1458]\n",
      " [106210    104    866]\n",
      " [154800    138    787]\n",
      " [137170    131   1317]\n",
      " [134160    201   1960]\n",
      " [125990    114   1012]\n",
      " [ 87290     83    662]\n",
      " [ 94428     69    944]\n",
      " [156520    118   1419]\n",
      " [ 94600    166   1093]\n",
      " [107500    114   1227]\n",
      " [ 68800    171    980]]\n"
     ]
    }
   ],
   "source": [
    "# 6. Juste pour l'exercice, splitter (casser) l'array en trois tableaux, \n",
    "# puis les concaténer à nouveau pour obtenir le tableau initial\n",
    "\n",
    "# 6.1 spliter le tableau en 3\n",
    "\n",
    "# SPLIT VERTICAL\n",
    "# nombre de lignes et colonnes?\n",
    "print('Taille :', houses.shape)\n",
    "print('----------------------------------')\n",
    "\n",
    "# 20 lignes 3 colonnes\n",
    "print('Index de spit en 3 :', 20/3)\n",
    "print('----------------------------------')\n",
    "\n",
    "# 6.66 -- index 6 (colonne 7) puis 13 (colonne 14)\n",
    "houses1,houses2,houses3=np.split(houses,[6,13])\n",
    "print('Tableau houses splitté en 3 : solution 1')\n",
    "print('                                    ')\n",
    "print(houses1)\n",
    "print('                                    ')\n",
    "print(houses2)\n",
    "print('                                    ')\n",
    "print(houses3)\n",
    "\n",
    "# OU\n",
    "\n",
    "# SPLIT HORIZONTAL\n",
    "houses4,houses5,houses6=np.hsplit(houses,3)\n",
    "print('----------------------------------')\n",
    "print('Tableau houses splitté en 3 : solution 2')\n",
    "print('                                    ')\n",
    "print(houses4)\n",
    "print('                                    ')\n",
    "print(houses5)\n",
    "print('                                    ')\n",
    "print(houses6)\n",
    "\n",
    "# 6.2 concatener les 3 tableaux splitter en 1 tableau\n",
    "houses7=np.concatenate([houses1,houses2, houses3])\n",
    "print('----------------------------------')\n",
    "print('Tableau reconstitué vertical')\n",
    "print(houses7)\n",
    "\n",
    "# ou\n",
    "houses8=np.concatenate([houses4,houses5, houses6], axis = 1)\n",
    "print('----------------------------------')\n",
    "print('Tableau reconstitué horizontal')\n",
    "print(houses8)\n",
    "\n"
   ]
  },
  {
   "cell_type": "code",
   "execution_count": null,
   "metadata": {},
   "outputs": [],
   "source": []
  }
 ],
 "metadata": {
  "kernelspec": {
   "display_name": "Python 3",
   "language": "python",
   "name": "python3"
  },
  "language_info": {
   "codemirror_mode": {
    "name": "ipython",
    "version": 3
   },
   "file_extension": ".py",
   "mimetype": "text/x-python",
   "name": "python",
   "nbconvert_exporter": "python",
   "pygments_lexer": "ipython3",
   "version": "3.8.3"
  }
 },
 "nbformat": 4,
 "nbformat_minor": 4
}
