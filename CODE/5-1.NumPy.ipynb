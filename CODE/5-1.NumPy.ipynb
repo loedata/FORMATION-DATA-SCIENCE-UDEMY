{
 "cells": [
  {
   "cell_type": "code",
   "execution_count": 1,
   "metadata": {},
   "outputs": [],
   "source": [
    "# importer la blibliothèque numpy comme s'appelant np qu'on utilisera \n",
    "# dans le code\n",
    "import numpy as np"
   ]
  },
  {
   "cell_type": "code",
   "execution_count": 2,
   "metadata": {},
   "outputs": [
    {
     "data": {
      "text/plain": [
       "array([12,  3,  4,  5,  6,  7,  8,  9, 10, 11, 12, 13, 14, 15, 16, 17, 18,\n",
       "       19, 20])"
      ]
     },
     "execution_count": 2,
     "metadata": {},
     "output_type": "execute_result"
    }
   ],
   "source": [
    "# ndarray ne contiennent que le même type: int str, liste... mais modifiables\n",
    "# création d'un tableau à partir d'une liste\n",
    "np.array([12,3,4,5,6,7,8,9,10,11,12,13,14,15,16,17,18,19,20])"
   ]
  },
  {
   "cell_type": "code",
   "execution_count": 3,
   "metadata": {},
   "outputs": [],
   "source": [
    "# ranger dans une variable notre_tableau à une dimension, un vecteur\n",
    "#  le typage array permet de faire des manipulations très performantes\n",
    "notre_tableau=np.array([12,3,4,5,6,7,8,9,10,11,12,13,14,15,16,17,18,19,20])"
   ]
  },
  {
   "cell_type": "code",
   "execution_count": 4,
   "metadata": {},
   "outputs": [
    {
     "data": {
      "text/plain": [
       "array([[1, 2, 3],\n",
       "       [4, 5, 6],\n",
       "       [7, 8, 9]])"
      ]
     },
     "execution_count": 4,
     "metadata": {},
     "output_type": "execute_result"
    }
   ],
   "source": [
    "# création tableau à 2 dimensions (lignes et colonnes)\n",
    "# on passe une liste de liste [[],[],[]...] séparées par des virgules\n",
    "tableau_array_2d=np.array([[1,2,3],[4,5,6],[7,8,9]])\n",
    "tableau_array_2d"
   ]
  },
  {
   "cell_type": "code",
   "execution_count": 5,
   "metadata": {},
   "outputs": [
    {
     "data": {
      "text/plain": [
       "array([12,  3,  4,  5,  6])"
      ]
     },
     "execution_count": 5,
     "metadata": {},
     "output_type": "execute_result"
    }
   ],
   "source": [
    "# Vue et copies de tableaux\n",
    "# tableau contenant les 5 premières valeurs de notre tableau en utilisant index\n",
    "sous_tableau=notre_tableau[0:5]\n",
    "sous_tableau"
   ]
  },
  {
   "cell_type": "code",
   "execution_count": 6,
   "metadata": {},
   "outputs": [
    {
     "data": {
      "text/plain": [
       "array([12,  3,  4,  5,  6])"
      ]
     },
     "execution_count": 6,
     "metadata": {},
     "output_type": "execute_result"
    }
   ],
   "source": [
    "# pour ne pas faire une vue qui signifie que les modifications se répercutent \n",
    "# sur le tableau origine, on utilise .copy()\n",
    "sous_tableau=notre_tableau[0:5].copy()\n",
    "sous_tableau"
   ]
  },
  {
   "cell_type": "code",
   "execution_count": 7,
   "metadata": {
    "scrolled": true
   },
   "outputs": [
    {
     "name": "stdout",
     "output_type": "stream",
     "text": [
      "[10  3  4  5  6]\n",
      "[12  3  4  5  6  7  8  9 10 11 12 13 14 15 16 17 18 19 20]\n"
     ]
    }
   ],
   "source": [
    "# modification du sous_tableau\n",
    "sous_tableau[0]=10\n",
    "print(sous_tableau) # modifié premier élément passé de 12 à 10 : copie\n",
    "print(notre_tableau) # non modifié :premier élément 10 non modifié en 12"
   ]
  },
  {
   "cell_type": "code",
   "execution_count": 8,
   "metadata": {},
   "outputs": [
    {
     "data": {
      "text/plain": [
       "array([[1, 2, 3],\n",
       "       [4, 5, 6],\n",
       "       [7, 8, 9]])"
      ]
     },
     "execution_count": 8,
     "metadata": {},
     "output_type": "execute_result"
    }
   ],
   "source": [
    "# comment accéder aux éléments d'un array à 2 dimensions\n",
    "# et comment faire du slicing sur un tableau à 2 dimensions\n",
    "# on doit utiliser 2 index, un pour les lignes, un pour les colonnes\n",
    "\n",
    "# création tableau à 2 dimensions (lignes et colonnes)\n",
    "# on passe une liste de liste [[],[],[]...] séparées par des virgules\n",
    "tableau_array_2d=np.array([[1,2,3],[4,5,6],[7,8,9]])\n",
    "tableau_array_2d"
   ]
  },
  {
   "cell_type": "code",
   "execution_count": 9,
   "metadata": {},
   "outputs": [
    {
     "data": {
      "text/plain": [
       "6"
      ]
     },
     "execution_count": 9,
     "metadata": {},
     "output_type": "execute_result"
    }
   ],
   "source": [
    "# utilisation de 2 index ligne2 colonne 3 narray[index_ligne, index_colonne]\n",
    "tableau_array_2d[1,2] # valeur de 2ieme ligne 3ieme colonne"
   ]
  },
  {
   "cell_type": "code",
   "execution_count": 10,
   "metadata": {},
   "outputs": [
    {
     "data": {
      "text/plain": [
       "6"
      ]
     },
     "execution_count": 10,
     "metadata": {},
     "output_type": "execute_result"
    }
   ],
   "source": [
    "# on peut utiliser des index négatifs\n",
    "tableau_array_2d[1,-1]"
   ]
  },
  {
   "cell_type": "code",
   "execution_count": 11,
   "metadata": {},
   "outputs": [
    {
     "data": {
      "text/plain": [
       "array([1, 4, 7])"
      ]
     },
     "execution_count": 11,
     "metadata": {},
     "output_type": "execute_result"
    }
   ],
   "source": [
    "# slicing\n",
    "# première colonne et toutes les lignes de la première colonne (:)\n",
    "tableau_array_2d[:,0]"
   ]
  },
  {
   "cell_type": "code",
   "execution_count": 12,
   "metadata": {},
   "outputs": [
    {
     "data": {
      "text/plain": [
       "array([1, 2, 3])"
      ]
     },
     "execution_count": 12,
     "metadata": {},
     "output_type": "execute_result"
    }
   ],
   "source": [
    "# afficher une ligne entière : toute les colonnes de la première ligne\n",
    "tableau_array_2d[0,:]"
   ]
  },
  {
   "cell_type": "code",
   "execution_count": 13,
   "metadata": {},
   "outputs": [
    {
     "data": {
      "text/plain": [
       "array([[1, 3],\n",
       "       [4, 6],\n",
       "       [7, 9]])"
      ]
     },
     "execution_count": 13,
     "metadata": {},
     "output_type": "execute_result"
    }
   ],
   "source": [
    "# afficher toutes les lignes (:) et les colonnes  1,2 ,3 [0:3: pas] d'un pas 2\n",
    "tableau_array_2d[:,0:3:2]"
   ]
  },
  {
   "cell_type": "code",
   "execution_count": 14,
   "metadata": {
    "scrolled": true
   },
   "outputs": [
    {
     "data": {
      "text/plain": [
       "array([3, 6, 9])"
      ]
     },
     "execution_count": 14,
     "metadata": {},
     "output_type": "execute_result"
    }
   ],
   "source": [
    "# pour partir de la fin ==> négatif \n",
    "# toutes les lignes et dernière colonne\n",
    "tableau_array_2d[:,-1]"
   ]
  },
  {
   "cell_type": "code",
   "execution_count": 15,
   "metadata": {},
   "outputs": [
    {
     "data": {
      "text/plain": [
       "array([[2],\n",
       "       [5],\n",
       "       [8]])"
      ]
     },
     "execution_count": 15,
     "metadata": {},
     "output_type": "execute_result"
    }
   ],
   "source": [
    "# on veut aller d'un entier positif à un entier négatif\n",
    "# 2ième colonne\n",
    "tableau_array_2d[:,1:-1]"
   ]
  },
  {
   "cell_type": "code",
   "execution_count": 16,
   "metadata": {},
   "outputs": [
    {
     "data": {
      "text/plain": [
       "array([8])"
      ]
     },
     "execution_count": 16,
     "metadata": {},
     "output_type": "execute_result"
    }
   ],
   "source": [
    "#  que la ligne 2 de la deuxième colonne\n",
    "tableau_array_2d[2,1:-1]"
   ]
  },
  {
   "cell_type": "code",
   "execution_count": 17,
   "metadata": {},
   "outputs": [
    {
     "data": {
      "text/plain": [
       "array([[60, 82, 21, 10],\n",
       "       [81, 26, 39, 37],\n",
       "       [89, 21, 66, 18],\n",
       "       [55, 41, 61, 14],\n",
       "       [73, 72, 97, 28],\n",
       "       [93, 57, 50, 61]])"
      ]
     },
     "execution_count": 17,
     "metadata": {},
     "output_type": "execute_result"
    }
   ],
   "source": [
    "# comment filtrer un array bidimensionnel, ne garder que quelques valeurs...\n",
    "\n",
    "# création objet array, alimenté alétoirement avec sous-modules randint\n",
    "# de random de la librairie numpy\n",
    "# valeur maxi des valeurs=100 : 0 à 100\n",
    "# taille de 6 lignes 4 colonnes\n",
    "array=np.random.randint(100, size=(6,4))\n",
    "array"
   ]
  },
  {
   "cell_type": "code",
   "execution_count": 18,
   "metadata": {},
   "outputs": [
    {
     "data": {
      "text/plain": [
       "2"
      ]
     },
     "execution_count": 18,
     "metadata": {},
     "output_type": "execute_result"
    }
   ],
   "source": [
    "# comment utiliser les attributs de la classe array\n",
    "# ndarray est une classe ==> objet particulier\n",
    "# voir manuel de référence de scipy\n",
    "# utilisation de l'attribut ndim : nombre dimension de l'array : 2 dimensions\n",
    "array.ndim\n"
   ]
  },
  {
   "cell_type": "code",
   "execution_count": 19,
   "metadata": {},
   "outputs": [
    {
     "data": {
      "text/plain": [
       "(6, 4)"
      ]
     },
     "execution_count": 19,
     "metadata": {},
     "output_type": "execute_result"
    }
   ],
   "source": [
    "# nombre lignes et colonnes : 6 lignes, 4 colonnes\n",
    "array.shape"
   ]
  },
  {
   "cell_type": "code",
   "execution_count": 20,
   "metadata": {},
   "outputs": [
    {
     "data": {
      "text/plain": [
       "dtype('int32')"
      ]
     },
     "execution_count": 20,
     "metadata": {},
     "output_type": "execute_result"
    }
   ],
   "source": [
    "# type de l'array ==> int32\n",
    "array.dtype"
   ]
  },
  {
   "cell_type": "code",
   "execution_count": 21,
   "metadata": {},
   "outputs": [
    {
     "data": {
      "text/plain": [
       "24"
      ]
     },
     "execution_count": 21,
     "metadata": {},
     "output_type": "execute_result"
    }
   ],
   "source": [
    "# taille de notre tableau=nombre valeur du tableau : 24 valeurs\n",
    "array.size"
   ]
  },
  {
   "cell_type": "code",
   "execution_count": 22,
   "metadata": {},
   "outputs": [
    {
     "data": {
      "text/plain": [
       "array([60, 82, 81, 89, 66, 55, 61, 73, 72, 97, 93, 57, 61])"
      ]
     },
     "execution_count": 22,
     "metadata": {},
     "output_type": "execute_result"
    }
   ],
   "source": [
    "# filtrer les array grâce à des booleen\n",
    "# ne conserver que les valeurs de l'array supérieurs à 50\n",
    "# sélection que des valeurs pour lesquelles les conditions sont True\n",
    "array[array>50]"
   ]
  },
  {
   "cell_type": "code",
   "execution_count": 23,
   "metadata": {},
   "outputs": [
    {
     "data": {
      "text/plain": [
       "array([[ True,  True, False, False],\n",
       "       [ True, False, False, False],\n",
       "       [ True, False,  True, False],\n",
       "       [ True, False,  True, False],\n",
       "       [ True,  True,  True, False],\n",
       "       [ True,  True, False,  True]])"
      ]
     },
     "execution_count": 23,
     "metadata": {},
     "output_type": "execute_result"
    }
   ],
   "source": [
    "#  il fait une boucle et répond à la condition > True non False\n",
    "array>50"
   ]
  },
  {
   "cell_type": "code",
   "execution_count": 24,
   "metadata": {},
   "outputs": [
    {
     "data": {
      "text/plain": [
       "array([60, 82, 81, 89, 66, 55, 61, 73, 72, 97, 93, 57, 50, 61])"
      ]
     },
     "execution_count": 24,
     "metadata": {},
     "output_type": "execute_result"
    }
   ],
   "source": [
    "array[array>=50]"
   ]
  },
  {
   "cell_type": "code",
   "execution_count": 25,
   "metadata": {},
   "outputs": [
    {
     "data": {
      "text/plain": [
       "array([21, 10, 26, 39, 37, 21, 18, 41, 14, 28])"
      ]
     },
     "execution_count": 25,
     "metadata": {},
     "output_type": "execute_result"
    }
   ],
   "source": [
    "array[array<50]"
   ]
  },
  {
   "cell_type": "code",
   "execution_count": 26,
   "metadata": {},
   "outputs": [
    {
     "data": {
      "text/plain": [
       "array([50])"
      ]
     },
     "execution_count": 26,
     "metadata": {},
     "output_type": "execute_result"
    }
   ],
   "source": [
    "array[array == 50]"
   ]
  },
  {
   "cell_type": "code",
   "execution_count": 27,
   "metadata": {},
   "outputs": [
    {
     "data": {
      "text/plain": [
       "array([60, 82, 21, 10, 81, 26, 39, 37, 89, 21, 66, 18, 55, 41, 61, 14, 73,\n",
       "       72, 97, 28, 93, 57, 61])"
      ]
     },
     "execution_count": 27,
     "metadata": {},
     "output_type": "execute_result"
    }
   ],
   "source": [
    "array[array != 50]"
   ]
  },
  {
   "cell_type": "code",
   "execution_count": 28,
   "metadata": {},
   "outputs": [
    {
     "data": {
      "text/plain": [
       "array([60, 66, 55, 61, 57, 50, 61])"
      ]
     },
     "execution_count": 28,
     "metadata": {},
     "output_type": "execute_result"
    }
   ],
   "source": [
    "# opérateurs logiques \n",
    "# & : and\n",
    "# | : or\n",
    "array[(array>=50) & (array<= 70)]"
   ]
  },
  {
   "cell_type": "code",
   "execution_count": 29,
   "metadata": {},
   "outputs": [
    {
     "data": {
      "text/plain": [
       "array([60, 82, 21, 10, 81, 26, 39, 37, 89, 21, 66, 18, 55, 61, 14, 73, 72,\n",
       "       97, 28, 93, 57, 50, 61])"
      ]
     },
     "execution_count": 29,
     "metadata": {},
     "output_type": "execute_result"
    }
   ],
   "source": [
    "# OU logique\n",
    "array[(array>=50) | (array <= 40)]"
   ]
  },
  {
   "cell_type": "code",
   "execution_count": 30,
   "metadata": {},
   "outputs": [],
   "source": [
    "# concaténation de tableau avec numpy , jointure de 2 tableaux\n",
    "# création de 2 arrays\n",
    "array1=np.array([[1,2,3],[4,5,6],[7,8,9]])\n",
    "array2=np.array([[2,5,6],[9,10,11],[5,6,9]])"
   ]
  },
  {
   "cell_type": "code",
   "execution_count": 31,
   "metadata": {},
   "outputs": [
    {
     "data": {
      "text/plain": [
       "array([[1, 2, 3],\n",
       "       [4, 5, 6],\n",
       "       [7, 8, 9]])"
      ]
     },
     "execution_count": 31,
     "metadata": {},
     "output_type": "execute_result"
    }
   ],
   "source": [
    "array1"
   ]
  },
  {
   "cell_type": "code",
   "execution_count": 32,
   "metadata": {
    "scrolled": true
   },
   "outputs": [
    {
     "data": {
      "text/plain": [
       "array([[ 2,  5,  6],\n",
       "       [ 9, 10, 11],\n",
       "       [ 5,  6,  9]])"
      ]
     },
     "execution_count": 32,
     "metadata": {},
     "output_type": "execute_result"
    }
   ],
   "source": [
    "array2"
   ]
  },
  {
   "cell_type": "code",
   "execution_count": 33,
   "metadata": {},
   "outputs": [
    {
     "data": {
      "text/plain": [
       "array([[ 1,  2,  3],\n",
       "       [ 4,  5,  6],\n",
       "       [ 7,  8,  9],\n",
       "       [ 2,  5,  6],\n",
       "       [ 9, 10, 11],\n",
       "       [ 5,  6,  9]])"
      ]
     },
     "execution_count": 33,
     "metadata": {},
     "output_type": "execute_result"
    }
   ],
   "source": [
    "#  si tableaux de même dimension, on peut les concaténer\n",
    "np.concatenate([array1,array2])"
   ]
  },
  {
   "cell_type": "code",
   "execution_count": 34,
   "metadata": {},
   "outputs": [],
   "source": [
    "#  création nouveau tableau\n",
    "array3=np.array([[4,10,13],[7,14,15],[10,16,84]])"
   ]
  },
  {
   "cell_type": "code",
   "execution_count": 35,
   "metadata": {},
   "outputs": [
    {
     "data": {
      "text/plain": [
       "array([[ 4, 10, 13],\n",
       "       [ 7, 14, 15],\n",
       "       [10, 16, 84]])"
      ]
     },
     "execution_count": 35,
     "metadata": {},
     "output_type": "execute_result"
    }
   ],
   "source": [
    "array3"
   ]
  },
  {
   "cell_type": "code",
   "execution_count": 36,
   "metadata": {},
   "outputs": [
    {
     "data": {
      "text/plain": [
       "array([[ 1,  2,  3],\n",
       "       [ 4,  5,  6],\n",
       "       [ 7,  8,  9],\n",
       "       [ 2,  5,  6],\n",
       "       [ 9, 10, 11],\n",
       "       [ 5,  6,  9],\n",
       "       [ 4, 10, 13],\n",
       "       [ 7, 14, 15],\n",
       "       [10, 16, 84]])"
      ]
     },
     "execution_count": 36,
     "metadata": {},
     "output_type": "execute_result"
    }
   ],
   "source": [
    "np.concatenate([array1,array2, array3])"
   ]
  },
  {
   "cell_type": "code",
   "execution_count": 37,
   "metadata": {},
   "outputs": [],
   "source": [
    "# pour des tableaux de dimension différentes\n",
    "# on utilise fonction vstak empilation verticale\n",
    "# on utilise fonction vstak empilation horizontale\n",
    "# création tableau à une dimension\n",
    "array4=np.array([15,16,47])"
   ]
  },
  {
   "cell_type": "code",
   "execution_count": 38,
   "metadata": {},
   "outputs": [
    {
     "data": {
      "text/plain": [
       "array([15, 16, 47])"
      ]
     },
     "execution_count": 38,
     "metadata": {},
     "output_type": "execute_result"
    }
   ],
   "source": [
    "array4"
   ]
  },
  {
   "cell_type": "code",
   "execution_count": 39,
   "metadata": {},
   "outputs": [],
   "source": [
    "# création tableau à 2 dimensions de 3 lignes 3 colonnes \n",
    "array5=np.array([[1,2,3],[4,5,6],[7,8,9]])"
   ]
  },
  {
   "cell_type": "code",
   "execution_count": 40,
   "metadata": {},
   "outputs": [
    {
     "data": {
      "text/plain": [
       "array([[1, 2, 3],\n",
       "       [4, 5, 6],\n",
       "       [7, 8, 9]])"
      ]
     },
     "execution_count": 40,
     "metadata": {},
     "output_type": "execute_result"
    }
   ],
   "source": [
    "array5"
   ]
  },
  {
   "cell_type": "code",
   "execution_count": 42,
   "metadata": {},
   "outputs": [],
   "source": [
    "# pour ajouter une ligne\n",
    "# empilation verticale car on ajoute une ligne\n",
    "# ==> vstack array4 en premier puis array5\n",
    "array6=np.vstack([array4,array5])"
   ]
  },
  {
   "cell_type": "code",
   "execution_count": 45,
   "metadata": {},
   "outputs": [
    {
     "data": {
      "text/plain": [
       "array([[15, 16, 47],\n",
       "       [ 1,  2,  3],\n",
       "       [ 4,  5,  6],\n",
       "       [ 7,  8,  9]])"
      ]
     },
     "execution_count": 45,
     "metadata": {},
     "output_type": "execute_result"
    }
   ],
   "source": [
    "array6"
   ]
  },
  {
   "cell_type": "code",
   "execution_count": 46,
   "metadata": {},
   "outputs": [],
   "source": [
    "# pour ajouter une colonne\n",
    "# empilation horizontale car on ajoute une colonne\n",
    "# ==> hstack \n",
    "array7=np.array([[15],[16],[47]])"
   ]
  },
  {
   "cell_type": "code",
   "execution_count": 47,
   "metadata": {},
   "outputs": [
    {
     "data": {
      "text/plain": [
       "array([[15],\n",
       "       [16],\n",
       "       [47]])"
      ]
     },
     "execution_count": 47,
     "metadata": {},
     "output_type": "execute_result"
    }
   ],
   "source": [
    "array7"
   ]
  },
  {
   "cell_type": "code",
   "execution_count": 48,
   "metadata": {},
   "outputs": [],
   "source": [
    "# première colonne array7, deuxième colonne array5\n",
    "array8=np.hstack([array7,array5])"
   ]
  },
  {
   "cell_type": "code",
   "execution_count": 49,
   "metadata": {},
   "outputs": [
    {
     "data": {
      "text/plain": [
       "array([[15,  1,  2,  3],\n",
       "       [16,  4,  5,  6],\n",
       "       [47,  7,  8,  9]])"
      ]
     },
     "execution_count": 49,
     "metadata": {},
     "output_type": "execute_result"
    }
   ],
   "source": [
    "array8"
   ]
  },
  {
   "cell_type": "code",
   "execution_count": 50,
   "metadata": {},
   "outputs": [],
   "source": [
    "# comment spliter ou casser un array avec numpy\n",
    "# contraire de la concaténation on veut le découper\n",
    "\n",
    "# SPLIT d'un tableau MONODIMENSIONNELLE\n",
    "# création array à une dimension\n",
    "array9=np.array([15,16,17,12,49,52,12,14,36])"
   ]
  },
  {
   "cell_type": "code",
   "execution_count": 51,
   "metadata": {},
   "outputs": [
    {
     "data": {
      "text/plain": [
       "array([15, 16, 17, 12, 49, 52, 12, 14, 36])"
      ]
     },
     "execution_count": 51,
     "metadata": {},
     "output_type": "execute_result"
    }
   ],
   "source": [
    "array9"
   ]
  },
  {
   "cell_type": "code",
   "execution_count": 52,
   "metadata": {},
   "outputs": [
    {
     "data": {
      "text/plain": [
       "9"
      ]
     },
     "execution_count": 52,
     "metadata": {},
     "output_type": "execute_result"
    }
   ],
   "source": [
    "# taille de l'array\n",
    "len(array9)"
   ]
  },
  {
   "cell_type": "code",
   "execution_count": 53,
   "metadata": {},
   "outputs": [],
   "source": [
    "# on veut casser le tableau en 3\n",
    "# on utilise split en lui envoyant les points de cassures \n",
    "# point de cassure 2 = index où on veut casser le dossier (commence par 0)\n",
    "array10=np.split(array9,[2,6])"
   ]
  },
  {
   "cell_type": "code",
   "execution_count": 54,
   "metadata": {},
   "outputs": [
    {
     "data": {
      "text/plain": [
       "[array([15, 16]), array([17, 12, 49, 52]), array([12, 14, 36])]"
      ]
     },
     "execution_count": 54,
     "metadata": {},
     "output_type": "execute_result"
    }
   ],
   "source": [
    "array10"
   ]
  },
  {
   "cell_type": "code",
   "execution_count": 55,
   "metadata": {},
   "outputs": [],
   "source": [
    "# on obtient une liste de 3 array\n",
    "array11,array12,array13=array10"
   ]
  },
  {
   "cell_type": "code",
   "execution_count": 56,
   "metadata": {},
   "outputs": [
    {
     "data": {
      "text/plain": [
       "array([15, 16])"
      ]
     },
     "execution_count": 56,
     "metadata": {},
     "output_type": "execute_result"
    }
   ],
   "source": [
    "array11"
   ]
  },
  {
   "cell_type": "code",
   "execution_count": 57,
   "metadata": {},
   "outputs": [
    {
     "data": {
      "text/plain": [
       "array([17, 12, 49, 52])"
      ]
     },
     "execution_count": 57,
     "metadata": {},
     "output_type": "execute_result"
    }
   ],
   "source": [
    "array12"
   ]
  },
  {
   "cell_type": "code",
   "execution_count": 58,
   "metadata": {},
   "outputs": [
    {
     "data": {
      "text/plain": [
       "array([12, 14, 36])"
      ]
     },
     "execution_count": 58,
     "metadata": {},
     "output_type": "execute_result"
    }
   ],
   "source": [
    "array13"
   ]
  },
  {
   "cell_type": "code",
   "execution_count": 59,
   "metadata": {},
   "outputs": [
    {
     "name": "stdout",
     "output_type": "stream",
     "text": [
      "[15 16] [17 12 49 52] [12 14 36]\n"
     ]
    }
   ],
   "source": [
    "print(array11,array12,array13)"
   ]
  },
  {
   "cell_type": "code",
   "execution_count": 60,
   "metadata": {},
   "outputs": [
    {
     "name": "stdout",
     "output_type": "stream",
     "text": [
      "[15 16] [17 12] [49 52] [12 14 36]\n"
     ]
    }
   ],
   "source": [
    "# pour spliter en 4 un tableau impair à la fin il prend le reste\n",
    "array21,array22,array23,array24=np.split(array9,[2,4,6])\n",
    "print(array21,array22,array23,array24)"
   ]
  },
  {
   "cell_type": "code",
   "execution_count": 61,
   "metadata": {},
   "outputs": [],
   "source": [
    "# SPLIT D'UN TABLEAU A 2 DIMENSIONS\n",
    "# création du tableau à 2 dimensions\n",
    "array30=np.array([[1,2,3],[4,5,6],[7,8,9]])"
   ]
  },
  {
   "cell_type": "code",
   "execution_count": 67,
   "metadata": {},
   "outputs": [
    {
     "data": {
      "text/plain": [
       "array([[1, 2, 3],\n",
       "       [4, 5, 6],\n",
       "       [7, 8, 9]])"
      ]
     },
     "execution_count": 67,
     "metadata": {},
     "output_type": "execute_result"
    }
   ],
   "source": [
    "array30"
   ]
  },
  {
   "cell_type": "code",
   "execution_count": 64,
   "metadata": {},
   "outputs": [
    {
     "name": "stdout",
     "output_type": "stream",
     "text": [
      "[[1 2 3]\n",
      " [4 5 6]] [[7 8 9]]\n"
     ]
    }
   ],
   "source": [
    "array31, array32=np.vsplit(array30,[2])\n",
    "print(array31,array32)"
   ]
  },
  {
   "cell_type": "code",
   "execution_count": 68,
   "metadata": {},
   "outputs": [
    {
     "data": {
      "text/plain": [
       "array([[1, 2, 3],\n",
       "       [4, 5, 6],\n",
       "       [7, 8, 9]])"
      ]
     },
     "execution_count": 68,
     "metadata": {},
     "output_type": "execute_result"
    }
   ],
   "source": [
    "array30"
   ]
  },
  {
   "cell_type": "code",
   "execution_count": 66,
   "metadata": {
    "scrolled": true
   },
   "outputs": [
    {
     "name": "stdout",
     "output_type": "stream",
     "text": [
      "[[1 2]\n",
      " [4 5]\n",
      " [7 8]] [[3]\n",
      " [6]\n",
      " [9]]\n"
     ]
    }
   ],
   "source": [
    "array33, array34=np.hsplit(array30,[2])\n",
    "print(array33,array34)"
   ]
  },
  {
   "cell_type": "code",
   "execution_count": 69,
   "metadata": {},
   "outputs": [],
   "source": [
    "# les calculs sur les array\n",
    "# création tableau avec valeur aléatoires\n",
    "array=np.random.randint(350, size=(10,9))"
   ]
  },
  {
   "cell_type": "code",
   "execution_count": 70,
   "metadata": {},
   "outputs": [
    {
     "data": {
      "text/plain": [
       "array([[320, 111,  48,  53,  18,  19,  80,  39, 199],\n",
       "       [286, 156, 284,  12, 140, 222, 281,  57,  21],\n",
       "       [ 88, 277, 296, 178, 263, 103,  33, 349,  50],\n",
       "       [187,  24, 297, 315,  34, 260, 234,  75,  41],\n",
       "       [263, 272, 176, 129,  68, 319,   3, 267, 161],\n",
       "       [138, 206,  47, 133, 275, 144, 105, 167,  68],\n",
       "       [ 99, 139, 102,  75, 145,  13,  54,  74, 199],\n",
       "       [131, 288, 192, 284,  73,  45, 285, 147, 145],\n",
       "       [281, 152, 292, 163,  66,  95,  73, 218,  72],\n",
       "       [186, 209, 255, 137, 210,  82, 199, 309,  69]])"
      ]
     },
     "execution_count": 70,
     "metadata": {},
     "output_type": "execute_result"
    }
   ],
   "source": [
    "array"
   ]
  },
  {
   "cell_type": "code",
   "execution_count": 71,
   "metadata": {},
   "outputs": [
    {
     "data": {
      "text/plain": [
       "array([[322, 113,  50,  55,  20,  21,  82,  41, 201],\n",
       "       [288, 158, 286,  14, 142, 224, 283,  59,  23],\n",
       "       [ 90, 279, 298, 180, 265, 105,  35, 351,  52],\n",
       "       [189,  26, 299, 317,  36, 262, 236,  77,  43],\n",
       "       [265, 274, 178, 131,  70, 321,   5, 269, 163],\n",
       "       [140, 208,  49, 135, 277, 146, 107, 169,  70],\n",
       "       [101, 141, 104,  77, 147,  15,  56,  76, 201],\n",
       "       [133, 290, 194, 286,  75,  47, 287, 149, 147],\n",
       "       [283, 154, 294, 165,  68,  97,  75, 220,  74],\n",
       "       [188, 211, 257, 139, 212,  84, 201, 311,  71]])"
      ]
     },
     "execution_count": 71,
     "metadata": {},
     "output_type": "execute_result"
    }
   ],
   "source": [
    "# ajouter une valeur à tous les éléments d'un array\n",
    "# ajouter +2 à toutes les valeurs array+2\n",
    "array+2"
   ]
  },
  {
   "cell_type": "code",
   "execution_count": 72,
   "metadata": {},
   "outputs": [
    {
     "data": {
      "text/plain": [
       "array([[318, 109,  46,  51,  16,  17,  78,  37, 197],\n",
       "       [284, 154, 282,  10, 138, 220, 279,  55,  19],\n",
       "       [ 86, 275, 294, 176, 261, 101,  31, 347,  48],\n",
       "       [185,  22, 295, 313,  32, 258, 232,  73,  39],\n",
       "       [261, 270, 174, 127,  66, 317,   1, 265, 159],\n",
       "       [136, 204,  45, 131, 273, 142, 103, 165,  66],\n",
       "       [ 97, 137, 100,  73, 143,  11,  52,  72, 197],\n",
       "       [129, 286, 190, 282,  71,  43, 283, 145, 143],\n",
       "       [279, 150, 290, 161,  64,  93,  71, 216,  70],\n",
       "       [184, 207, 253, 135, 208,  80, 197, 307,  67]])"
      ]
     },
     "execution_count": 72,
     "metadata": {},
     "output_type": "execute_result"
    }
   ],
   "source": [
    "# enlever une valeur à toutes les valeurs du tableau\n",
    "array - 2"
   ]
  },
  {
   "cell_type": "code",
   "execution_count": 73,
   "metadata": {},
   "outputs": [
    {
     "data": {
      "text/plain": [
       "array([[3200, 1110,  480,  530,  180,  190,  800,  390, 1990],\n",
       "       [2860, 1560, 2840,  120, 1400, 2220, 2810,  570,  210],\n",
       "       [ 880, 2770, 2960, 1780, 2630, 1030,  330, 3490,  500],\n",
       "       [1870,  240, 2970, 3150,  340, 2600, 2340,  750,  410],\n",
       "       [2630, 2720, 1760, 1290,  680, 3190,   30, 2670, 1610],\n",
       "       [1380, 2060,  470, 1330, 2750, 1440, 1050, 1670,  680],\n",
       "       [ 990, 1390, 1020,  750, 1450,  130,  540,  740, 1990],\n",
       "       [1310, 2880, 1920, 2840,  730,  450, 2850, 1470, 1450],\n",
       "       [2810, 1520, 2920, 1630,  660,  950,  730, 2180,  720],\n",
       "       [1860, 2090, 2550, 1370, 2100,  820, 1990, 3090,  690]])"
      ]
     },
     "execution_count": 73,
     "metadata": {},
     "output_type": "execute_result"
    }
   ],
   "source": [
    "# multiplier une valeur à toutes les valeurs du tableau\n",
    "array * 10"
   ]
  },
  {
   "cell_type": "code",
   "execution_count": 75,
   "metadata": {},
   "outputs": [
    {
     "data": {
      "text/plain": [
       "array([3200, 2860,  880, 1870, 2630, 1380,  990, 1310, 2810, 1860])"
      ]
     },
     "execution_count": 75,
     "metadata": {},
     "output_type": "execute_result"
    }
   ],
   "source": [
    "# opérations arithmétiques par colonne ou ligne\n",
    "\n",
    "# Ex: multiplier la première colonne uniquement par 10\n",
    "array[:,0] * 10"
   ]
  },
  {
   "cell_type": "code",
   "execution_count": 76,
   "metadata": {},
   "outputs": [
    {
     "data": {
      "text/plain": [
       "array([[160. ,  55.5,  24. ,  26.5,   9. ,   9.5,  40. ,  19.5,  99.5],\n",
       "       [143. ,  78. , 142. ,   6. ,  70. , 111. , 140.5,  28.5,  10.5],\n",
       "       [ 44. , 138.5, 148. ,  89. , 131.5,  51.5,  16.5, 174.5,  25. ],\n",
       "       [ 93.5,  12. , 148.5, 157.5,  17. , 130. , 117. ,  37.5,  20.5],\n",
       "       [131.5, 136. ,  88. ,  64.5,  34. , 159.5,   1.5, 133.5,  80.5],\n",
       "       [ 69. , 103. ,  23.5,  66.5, 137.5,  72. ,  52.5,  83.5,  34. ],\n",
       "       [ 49.5,  69.5,  51. ,  37.5,  72.5,   6.5,  27. ,  37. ,  99.5],\n",
       "       [ 65.5, 144. ,  96. , 142. ,  36.5,  22.5, 142.5,  73.5,  72.5],\n",
       "       [140.5,  76. , 146. ,  81.5,  33. ,  47.5,  36.5, 109. ,  36. ],\n",
       "       [ 93. , 104.5, 127.5,  68.5, 105. ,  41. ,  99.5, 154.5,  34.5]])"
      ]
     },
     "execution_count": 76,
     "metadata": {},
     "output_type": "execute_result"
    }
   ],
   "source": [
    "# diviser toutes les valeurs \n",
    "array / 2"
   ]
  },
  {
   "cell_type": "code",
   "execution_count": 77,
   "metadata": {},
   "outputs": [
    {
     "data": {
      "text/plain": [
       "array([[322, 113,  50,  55,  20,  21,  82,  41, 201],\n",
       "       [288, 158, 286,  14, 142, 224, 283,  59,  23],\n",
       "       [ 90, 279, 298, 180, 265, 105,  35, 351,  52],\n",
       "       [189,  26, 299, 317,  36, 262, 236,  77,  43],\n",
       "       [265, 274, 178, 131,  70, 321,   5, 269, 163],\n",
       "       [140, 208,  49, 135, 277, 146, 107, 169,  70],\n",
       "       [101, 141, 104,  77, 147,  15,  56,  76, 201],\n",
       "       [133, 290, 194, 286,  75,  47, 287, 149, 147],\n",
       "       [283, 154, 294, 165,  68,  97,  75, 220,  74],\n",
       "       [188, 211, 257, 139, 212,  84, 201, 311,  71]])"
      ]
     },
     "execution_count": 77,
     "metadata": {},
     "output_type": "execute_result"
    }
   ],
   "source": [
    "# fonction add : performante et optimiser pour ajouter\n",
    "np.add(array,2)"
   ]
  },
  {
   "cell_type": "code",
   "execution_count": 78,
   "metadata": {},
   "outputs": [
    {
     "data": {
      "text/plain": [
       "array([[313, 104,  41,  46,  11,  12,  73,  32, 192],\n",
       "       [279, 149, 277,   5, 133, 215, 274,  50,  14],\n",
       "       [ 81, 270, 289, 171, 256,  96,  26, 342,  43],\n",
       "       [180,  17, 290, 308,  27, 253, 227,  68,  34],\n",
       "       [256, 265, 169, 122,  61, 312,  -4, 260, 154],\n",
       "       [131, 199,  40, 126, 268, 137,  98, 160,  61],\n",
       "       [ 92, 132,  95,  68, 138,   6,  47,  67, 192],\n",
       "       [124, 281, 185, 277,  66,  38, 278, 140, 138],\n",
       "       [274, 145, 285, 156,  59,  88,  66, 211,  65],\n",
       "       [179, 202, 248, 130, 203,  75, 192, 302,  62]])"
      ]
     },
     "execution_count": 78,
     "metadata": {},
     "output_type": "execute_result"
    }
   ],
   "source": [
    "# fonction substract soustraire\n",
    "np.subtract(array,7)"
   ]
  },
  {
   "cell_type": "code",
   "execution_count": 79,
   "metadata": {},
   "outputs": [
    {
     "data": {
      "text/plain": [
       "array([[3200, 1110,  480,  530,  180,  190,  800,  390, 1990],\n",
       "       [2860, 1560, 2840,  120, 1400, 2220, 2810,  570,  210],\n",
       "       [ 880, 2770, 2960, 1780, 2630, 1030,  330, 3490,  500],\n",
       "       [1870,  240, 2970, 3150,  340, 2600, 2340,  750,  410],\n",
       "       [2630, 2720, 1760, 1290,  680, 3190,   30, 2670, 1610],\n",
       "       [1380, 2060,  470, 1330, 2750, 1440, 1050, 1670,  680],\n",
       "       [ 990, 1390, 1020,  750, 1450,  130,  540,  740, 1990],\n",
       "       [1310, 2880, 1920, 2840,  730,  450, 2850, 1470, 1450],\n",
       "       [2810, 1520, 2920, 1630,  660,  950,  730, 2180,  720],\n",
       "       [1860, 2090, 2550, 1370, 2100,  820, 1990, 3090,  690]])"
      ]
     },
     "execution_count": 79,
     "metadata": {},
     "output_type": "execute_result"
    }
   ],
   "source": [
    "# fonction multiply : pour multiplier\n",
    "np.multiply(array,10)"
   ]
  },
  {
   "cell_type": "code",
   "execution_count": 80,
   "metadata": {},
   "outputs": [
    {
     "data": {
      "text/plain": [
       "array([[6.4 , 2.22, 0.96, 1.06, 0.36, 0.38, 1.6 , 0.78, 3.98],\n",
       "       [5.72, 3.12, 5.68, 0.24, 2.8 , 4.44, 5.62, 1.14, 0.42],\n",
       "       [1.76, 5.54, 5.92, 3.56, 5.26, 2.06, 0.66, 6.98, 1.  ],\n",
       "       [3.74, 0.48, 5.94, 6.3 , 0.68, 5.2 , 4.68, 1.5 , 0.82],\n",
       "       [5.26, 5.44, 3.52, 2.58, 1.36, 6.38, 0.06, 5.34, 3.22],\n",
       "       [2.76, 4.12, 0.94, 2.66, 5.5 , 2.88, 2.1 , 3.34, 1.36],\n",
       "       [1.98, 2.78, 2.04, 1.5 , 2.9 , 0.26, 1.08, 1.48, 3.98],\n",
       "       [2.62, 5.76, 3.84, 5.68, 1.46, 0.9 , 5.7 , 2.94, 2.9 ],\n",
       "       [5.62, 3.04, 5.84, 3.26, 1.32, 1.9 , 1.46, 4.36, 1.44],\n",
       "       [3.72, 4.18, 5.1 , 2.74, 4.2 , 1.64, 3.98, 6.18, 1.38]])"
      ]
     },
     "execution_count": 80,
     "metadata": {},
     "output_type": "execute_result"
    }
   ],
   "source": [
    "# fonction divide : pour diviser\n",
    "np.divide(array,50)"
   ]
  },
  {
   "cell_type": "code",
   "execution_count": 81,
   "metadata": {},
   "outputs": [
    {
     "data": {
      "text/plain": [
       "154.98888888888888"
      ]
     },
     "execution_count": 81,
     "metadata": {},
     "output_type": "execute_result"
    }
   ],
   "source": [
    "# calculer la moyenne des valeurs : fonction mean\n",
    "np.mean(array)"
   ]
  },
  {
   "cell_type": "code",
   "execution_count": 82,
   "metadata": {},
   "outputs": [
    {
     "data": {
      "text/plain": [
       "154.98888888888888"
      ]
     },
     "execution_count": 82,
     "metadata": {},
     "output_type": "execute_result"
    }
   ],
   "source": [
    "# calculer la moyenne avec une méthode mean spécifique au array\n",
    "array.mean()"
   ]
  },
  {
   "cell_type": "code",
   "execution_count": 83,
   "metadata": {},
   "outputs": [
    {
     "data": {
      "text/plain": [
       "3"
      ]
     },
     "execution_count": 83,
     "metadata": {},
     "output_type": "execute_result"
    }
   ],
   "source": [
    "# valeur minimum du tableau\n",
    "array.min()"
   ]
  },
  {
   "cell_type": "code",
   "execution_count": 84,
   "metadata": {},
   "outputs": [
    {
     "data": {
      "text/plain": [
       "349"
      ]
     },
     "execution_count": 84,
     "metadata": {},
     "output_type": "execute_result"
    }
   ],
   "source": [
    "# valeur maximum du tableau\n",
    "array.max()"
   ]
  },
  {
   "cell_type": "code",
   "execution_count": 85,
   "metadata": {},
   "outputs": [
    {
     "data": {
      "text/plain": [
       "array([197.9, 183.4, 198.9, 147.9, 129.2, 130.2, 134.7, 170.2, 102.5])"
      ]
     },
     "execution_count": 85,
     "metadata": {},
     "output_type": "execute_result"
    }
   ],
   "source": [
    "# calculer la moyenne par colonne avec axis=0\n",
    "np.mean(array, axis=0)"
   ]
  },
  {
   "cell_type": "code",
   "execution_count": 86,
   "metadata": {},
   "outputs": [
    {
     "data": {
      "text/plain": [
       "array([ 98.55555556, 162.11111111, 181.88888889, 163.        ,\n",
       "       184.22222222, 142.55555556, 100.        , 176.66666667,\n",
       "       156.88888889, 184.        ])"
      ]
     },
     "execution_count": 86,
     "metadata": {},
     "output_type": "execute_result"
    }
   ],
   "source": [
    "# calculer la moyenne par ligne avec axis=1\n",
    "np.mean(array, axis=1)"
   ]
  },
  {
   "cell_type": "code",
   "execution_count": null,
   "metadata": {},
   "outputs": [],
   "source": []
  }
 ],
 "metadata": {
  "kernelspec": {
   "display_name": "Python 3",
   "language": "python",
   "name": "python3"
  },
  "language_info": {
   "codemirror_mode": {
    "name": "ipython",
    "version": 3
   },
   "file_extension": ".py",
   "mimetype": "text/x-python",
   "name": "python",
   "nbconvert_exporter": "python",
   "pygments_lexer": "ipython3",
   "version": "3.8.3"
  }
 },
 "nbformat": 4,
 "nbformat_minor": 4
}
